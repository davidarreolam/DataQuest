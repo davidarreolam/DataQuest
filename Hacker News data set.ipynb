{
 "cells": [
  {
   "cell_type": "markdown",
   "metadata": {},
   "source": [
    "# Hacker News data set\n",
    "\n",
    "In this notebook we are going to analyze the Hacker News data set and do an analysis of some things."
   ]
  },
  {
   "cell_type": "code",
   "execution_count": 1,
   "metadata": {},
   "outputs": [],
   "source": [
    "from csv import reader\n",
    "\n",
    "open_file = open('hacker_rank.csv')\n",
    "read_file = reader(open_file)\n",
    "hn = list(read_file)\n",
    "header = hn[0]\n",
    "hn = hn[1:]\n",
    "\n",
    "# for row in hn:\n",
    "#     print(row)\n",
    "#     print('\\n')"
   ]
  },
  {
   "cell_type": "markdown",
   "metadata": {},
   "source": [
    "Now that we have our data imported, we're going to start filtering out. We will be analyzing to kind of posts from Hacker Rank, which are the *Ask Hacker Rank* and *Show Hacker Rank* posts. For now, we're going to split the data set into different lists to be able to manipulate and analyze them separately. "
   ]
  },
  {
   "cell_type": "code",
   "execution_count": 2,
   "metadata": {},
   "outputs": [
    {
     "name": "stdout",
     "output_type": "stream",
     "text": [
      "1744\n",
      "1162\n",
      "17194\n"
     ]
    }
   ],
   "source": [
    "ask_hn = []\n",
    "show_hn = []\n",
    "rest_hn = []\n",
    "for row in hn:\n",
    "    check = row[1].lower()\n",
    "    if check.startswith('ask hn'):\n",
    "        ask_hn.append(row)\n",
    "    elif check.startswith('show hn'):\n",
    "        show_hn.append(row)\n",
    "    else:\n",
    "        rest_hn.append(row)\n",
    "        \n",
    "print(len(ask_hn))\n",
    "print(len(show_hn))\n",
    "print(len(rest_hn))\n",
    "\n"
   ]
  },
  {
   "cell_type": "markdown",
   "metadata": {},
   "source": [
    "Great! Now we can see how many rows we have for each of the different type of posts we are going to analyze. Now we are going to analyze which kind of posts have more engagement. We will be using comments as our metric."
   ]
  },
  {
   "cell_type": "code",
   "execution_count": 3,
   "metadata": {},
   "outputs": [
    {
     "name": "stdout",
     "output_type": "stream",
     "text": [
      "Ask Hacker News average comments: 14.038417431192661\n",
      "Show Hacker News average comments: 10.31669535283993\n",
      "Rest of Hacker News average comments: 26.8730371059672\n"
     ]
    }
   ],
   "source": [
    "ask_hn_comments = 0\n",
    "show_hn_comments = 0\n",
    "rest_hn_comments = 0\n",
    "\n",
    "for row in ask_hn:\n",
    "    num = int(row[4])\n",
    "    ask_hn_comments += num\n",
    "    \n",
    "ask_avg_comments = ask_hn_comments / len(ask_hn)\n",
    "print('Ask Hacker News average comments: ' + str(ask_avg_comments))\n",
    "\n",
    "for row in show_hn:\n",
    "    num = int(row[4])\n",
    "    show_hn_comments += num\n",
    "    \n",
    "show_avg_comments = show_hn_comments / len(show_hn)\n",
    "print('Show Hacker News average comments: ' + str(show_avg_comments))\n",
    "\n",
    "for row in rest_hn:\n",
    "    num = int(row[4])\n",
    "    rest_hn_comments += num\n",
    "    \n",
    "rest_avg_comments = rest_hn_comments / len(rest_hn)\n",
    "print('Rest of Hacker News average comments: ' +str(rest_avg_comments))\n"
   ]
  },
  {
   "cell_type": "markdown",
   "metadata": {},
   "source": [
    "By analyzing our findings, we can see that ask posts receive the highest number of average comments. Even the rest of the posts have a higher number of comments than the show posts! Let's now focus on Ask Hacker New posts and see what else we can find about them."
   ]
  },
  {
   "cell_type": "markdown",
   "metadata": {},
   "source": [
    "We are now going to analyze Ask Hacker News posts by hour. Let's see at which times posts are more popular."
   ]
  },
  {
   "cell_type": "code",
   "execution_count": 4,
   "metadata": {},
   "outputs": [
    {
     "name": "stdout",
     "output_type": "stream",
     "text": [
      "{9: 251, 13: 1253, 10: 793, 14: 1416, 16: 1814, 23: 543, 12: 687, 17: 1146, 15: 4477, 21: 1745, 20: 1722, 2: 1381, 18: 1439, 3: 421, 5: 464, 19: 1188, 1: 683, 22: 479, 8: 492, 4: 337, 0: 447, 6: 397, 7: 267, 11: 641}\n"
     ]
    }
   ],
   "source": [
    "import datetime as dt\n",
    "\n",
    "ask_hn_time = []\n",
    "\n",
    "for row in ask_hn:\n",
    "    date = dt.datetime.strptime(row[6],'%d/%j/%Y %H:%M')\n",
    "    comment = row[4]\n",
    "    new_list = [date, comment]\n",
    "    ask_hn_time.append(new_list)\n",
    "\n",
    "    \n",
    "post_hour = {}\n",
    "comments_hour = {}\n",
    "\n",
    "for row in ask_hn_time:\n",
    "    hour = row[0].hour\n",
    "    comment = int(row[1])\n",
    "    if hour not in post_hour:\n",
    "        post_hour[hour] = 1\n",
    "        comments_hour[hour] = comment\n",
    "    else:\n",
    "        post_hour[hour] += 1\n",
    "        comments_hour[hour] += comment\n",
    "    \n",
    "print(comments_hour)"
   ]
  },
  {
   "cell_type": "markdown",
   "metadata": {},
   "source": [
    "In the last cell, we created two different dictionaries. <code>post_hour</code>, which shows us the number of posts created for each hour of the day, and <code>comments_hour</code>, which shows the number of comments for each hour of the day. Now, we are going to create a list to see the average number of comments for each post for each hour of the day"
   ]
  },
  {
   "cell_type": "code",
   "execution_count": 36,
   "metadata": {},
   "outputs": [
    {
     "name": "stdout",
     "output_type": "stream",
     "text": [
      "Top 5 hours:\n",
      "# of comments : 39.0        Time: 15\n",
      "# of comments : 24.0        Time: 2\n",
      "# of comments : 22.0        Time: 20\n",
      "# of comments : 17.0        Time: 16\n",
      "# of comments : 16.0        Time: 21\n",
      "# of comments : 15.0        Time: 13\n",
      "# of comments : 13.0        Time: 10\n",
      "# of comments : 13.0        Time: 14\n",
      "# of comments : 13.0        Time: 18\n",
      "# of comments : 11.0        Time: 17\n",
      "# of comments : 11.0        Time: 1\n",
      "# of comments : 11.0        Time: 11\n",
      "# of comments : 11.0        Time: 19\n",
      "# of comments : 10.0        Time: 8\n",
      "# of comments : 10.0        Time: 5\n",
      "# of comments : 9.0        Time: 12\n",
      "# of comments : 9.0        Time: 6\n",
      "# of comments : 8.0        Time: 0\n",
      "# of comments : 8.0        Time: 23\n",
      "# of comments : 8.0        Time: 7\n",
      "# of comments : 8.0        Time: 3\n",
      "# of comments : 7.0        Time: 4\n",
      "# of comments : 7.0        Time: 22\n",
      "# of comments : 6.0        Time: 9\n"
     ]
    }
   ],
   "source": [
    "avg_comments_per_hour = []\n",
    "\n",
    "    \n",
    "for post in post_hour:\n",
    "    avg_comments_per_hour.append([post, comments_hour[post]/post_hour[post]])\n",
    "    \n",
    "swap_avg = []\n",
    "\n",
    "for row in avg_comments_per_hour:\n",
    "    first = row[0]\n",
    "    second = row[1]\n",
    "    swap_avg.append([second,first])\n",
    "    \n",
    "swap_avg.sort(reverse=True)\n",
    "\n",
    "print('Top 5 hours:')\n",
    "for row in swap_avg:\n",
    "    comment = round(row[0],0)\n",
    "    time = row[1]\n",
    "    print('# of comments : ' + str(comment) + \"        \" + 'Time: ' + str(time))"
   ]
  },
  {
   "cell_type": "markdown",
   "metadata": {},
   "source": [
    "As we can see, 3:00 PM is the best time to post, while 9:00 AM will give you the least number of comments, on average. This will be everything for this project. Thanks for reading!"
   ]
  }
 ],
 "metadata": {
  "kernelspec": {
   "display_name": "Python 3",
   "language": "python",
   "name": "python3"
  },
  "language_info": {
   "codemirror_mode": {
    "name": "ipython",
    "version": 3
   },
   "file_extension": ".py",
   "mimetype": "text/x-python",
   "name": "python",
   "nbconvert_exporter": "python",
   "pygments_lexer": "ipython3",
   "version": "3.7.4"
  }
 },
 "nbformat": 4,
 "nbformat_minor": 2
}
